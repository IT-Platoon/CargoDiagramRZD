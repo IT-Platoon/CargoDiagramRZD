{
 "cells": [
  {
   "cell_type": "markdown",
   "id": "b0999db2-2ccf-479b-a330-167ad0b55048",
   "metadata": {},
   "source": [
    "# Формула расчёта смещения центров масс для ящика"
   ]
  },
  {
   "cell_type": "markdown",
   "id": "1d1775b2-c8a2-4dcb-aee9-2fd6ab664c80",
   "metadata": {},
   "source": [
    "### Исходные данные"
   ]
  },
  {
   "cell_type": "code",
   "execution_count": 1,
   "id": "92011ef2-d140-4042-bdc8-b35bf4d8397c",
   "metadata": {},
   "outputs": [],
   "source": [
    "# Характеристика 4-х осной ж/д платформы\n",
    "L = 13400 # Длина пола\n",
    "W = 2870 # Ширина пола\n",
    "Qv = 21 # Масса тары\n",
    "wugr = 1310 # Высота пола от УГР\n",
    "height_ct_vagon = 800 # Высота центра тяжести(ЦТ) от УГР\n",
    "9720 # База платформы\n",
    "\n",
    "# delta = [12168, 0, 3651, 7752] # расстояние между грузами (нет в записке)\n",
    "delta = [690, 3055, 6930, 10915]\n",
    "\n",
    "# Вес - в тоннах.\n",
    "# Длина, ширина, высота - в мм.\n",
    "cargo = [ # грузы\n",
    "    {'length': 1080, 'width': 1580, 'height': 390, 'weight': 395 / 1000},  \n",
    "    {'length': 3650, 'width': 3320, 'height': 1500, 'weight': 6670 / 1000},\n",
    "    {'length': 4100, 'width': 1720, 'height': 1150, 'weight': 1865 / 1000},\n",
    "    {'length': 3870, 'width': 2890, 'height': 1020, 'weight': 4085 / 1000},\n",
    "]\n",
    "weightSum = sum(map(lambda x: x['weight'], cargo))"
   ]
  },
  {
   "cell_type": "markdown",
   "id": "58e55acc-1221-4371-b2b6-b834bf3b9c3b",
   "metadata": {},
   "source": [
    "### Формулы"
   ]
  },
  {
   "cell_type": "code",
   "execution_count": 83,
   "id": "64dd9881-955a-4067-8061-75f348a14a25",
   "metadata": {},
   "outputs": [
    {
     "name": "stdout",
     "output_type": "stream",
     "text": [
      "694.4967345370733 265.7320299867706 1942.750672301191\n"
     ]
    }
   ],
   "source": [
    "for index, item in enumerate(cargo):\n",
    "    item['ct'] = delta[index]\n",
    "\n",
    "# Продольное смещение грузов в вагоне - в мм.\n",
    "Lc = 0.5*L - (sum(map(lambda x: x['weight'] * x['ct'], cargo)) / weightSum)\n",
    "\n",
    "# Продольное смещение грузов с вагоном - в мм.\n",
    "Lcv = 0.5*L - (sum(map(lambda x: x['weight'] * x['ct'], cargo)) + Qv * L/2) / (weightSum + Qv)\n",
    "\n",
    "# Общая высота ЦТ - в мм.\n",
    "H = sum(map(lambda x: x['weight'] * (x['height']/2 + wugr), cargo)) / weightSum\n",
    "\n",
    "print(Lc, Lcv, H)"
   ]
  },
  {
   "cell_type": "code",
   "execution_count": 71,
   "id": "b8a1cc9d-18ae-4376-82a2-a726ffa0e5d6",
   "metadata": {},
   "outputs": [
    {
     "data": {
      "text/plain": [
       "[{'length': 1080, 'width': 1580, 'height': 390, 'weight': 0.395, 'ct': 1230.0},\n",
       " {'length': 3650, 'width': 3320, 'height': 1500, 'weight': 6.67, 'ct': 6650.0},\n",
       " {'length': 4100,\n",
       "  'width': 1720,\n",
       "  'height': 1150,\n",
       "  'weight': 1.865,\n",
       "  'ct': 17455.0},\n",
       " {'length': 3870,\n",
       "  'width': 2890,\n",
       "  'height': 1020,\n",
       "  'weight': 4.085,\n",
       "  'ct': 32355.0}]"
      ]
     },
     "execution_count": 71,
     "metadata": {},
     "output_type": "execute_result"
    }
   ],
   "source": [
    "cargo"
   ]
  },
  {
   "cell_type": "markdown",
   "id": "b3e926ca-b92a-4349-aeaa-ff7266b96067",
   "metadata": {},
   "source": [
    "### Доп формулы"
   ]
  },
  {
   "cell_type": "code",
   "execution_count": 8,
   "id": "5257a00d-6f7d-49e6-9a25-969d462ba71e",
   "metadata": {},
   "outputs": [
    {
     "data": {
      "text/plain": [
       "1237.2453329413495"
      ]
     },
     "execution_count": 8,
     "metadata": {},
     "output_type": "execute_result"
    }
   ],
   "source": [
    "# Общая высота ЦТ\n",
    "height_center_gravity_in_car = (sum(map(lambda x: x['weight'] * (x['height']/2 + wugr), cargo)) + Qv * height_ct_vagon)/ (weightSum + Qv)\n",
    "height_center_gravity_in_car"
   ]
  },
  {
   "cell_type": "code",
   "execution_count": 10,
   "id": "a8a508cb-c6b0-43a3-acb9-8af9798105c3",
   "metadata": {},
   "outputs": [
    {
     "data": {
      "text/plain": [
       "21.5586"
      ]
     },
     "execution_count": 10,
     "metadata": {},
     "output_type": "execute_result"
    }
   ],
   "source": [
    "# Расчет наветренной поверхности.\n",
    "# Значение 7 - константа\n",
    "sum([item['length'] / 1000 * item['height'] / 1000 for item in cargo]) + 7"
   ]
  },
  {
   "cell_type": "markdown",
   "id": "426b054b-89ba-4344-9049-daed57552f14",
   "metadata": {},
   "source": [
    "### Оптимизация"
   ]
  },
  {
   "cell_type": "code",
   "execution_count": 12,
   "id": "0340d6e8-7e77-4c0a-b2cb-4063fe543bf3",
   "metadata": {},
   "outputs": [
    {
     "name": "stdout",
     "output_type": "stream",
     "text": [
      "free_L = 700\n",
      "free_L_for_one_cargo = 175\n"
     ]
    }
   ],
   "source": [
    "import random\n",
    "\n",
    "\n",
    "# грузы\n",
    "cargo = [\n",
    "    {'length': 3650, 'width': 3320, 'height': 1500, 'weight': 6670 / 1000, 'delta_length': None, 'delta_width': None},\n",
    "    {'length': 1080, 'width': 1580, 'height': 390, 'weight': 395 / 1000, 'delta_length': None, 'delta_width': None}, \n",
    "    {'length': 3870, 'width': 2890, 'height': 1020, 'weight': 4085 / 1000, 'delta_length': None, 'delta_width': None},\n",
    "    {'length': 4100, 'width': 1720, 'height': 1150, 'weight': 1865 / 1000, 'delta_length': None, 'delta_width': None},\n",
    "]\n",
    "weightSum = sum(map(lambda x: x['weight'], cargo))\n",
    "\n",
    "# Свободное место на платформе, если расположить все грузы.\n",
    "free_L = L - sum([item['length'] for item in cargo])\n",
    "print(f'{free_L = }')\n",
    "\n",
    "# Даём пустое пространство на один груз, где можем его двигать.\n",
    "free_L_for_one_cargo = free_L // len(cargo)\n",
    "print(f'{free_L_for_one_cargo = }')\n",
    "\n",
    "if free_L < 0:\n",
    "    print('Груз не влазит!')"
   ]
  },
  {
   "cell_type": "code",
   "execution_count": 13,
   "id": "0655966b-24e2-4be4-b038-c155818d1bf4",
   "metadata": {},
   "outputs": [
    {
     "name": "stdout",
     "output_type": "stream",
     "text": [
      "0.0065309258534398396 1349.6799846331157\n"
     ]
    }
   ],
   "source": [
    "import itertools\n",
    "\n",
    "\n",
    "class Optimize:\n",
    "    \"\"\" Модель для оптимизации продольного смещения. \"\"\"\n",
    "\n",
    "    def __init__(self, cargo: list, step=1, n_iter=1000):\n",
    "        \"\"\" step - шаг влево/вправо для оптимизации. Чем меньше, тем лучше. От 1 до бесконечности - int.\n",
    "        n_iter - кол-во повторений алгоритма для надёжности. Чем болешье, чем точнее, но медленнее. \"\"\"\n",
    "        \n",
    "        self.best_cargo = None\n",
    "        self.score_length = float('inf')\n",
    "        self.score_width = float('inf')\n",
    "\n",
    "        self._step = step  # Чем меньше - тем лучше\n",
    "        self._n_iter = n_iter  # Кол-во повторений\n",
    "        \n",
    "        self._optimize(cargo)\n",
    "\n",
    "\n",
    "    def _init_delta(self, cargo: list):\n",
    "        \"\"\" Инициализация значений delta. Внутри создаёт новый cargo. \"\"\"\n",
    "    \n",
    "        # copy_cargo = copy.deepcopy(cargo)\n",
    "        copy_cargo = [{k:v for k, v in dct.items()} for dct in cargo]\n",
    "\n",
    "        # Единственный ящик инициализирую в центре по ширине и длине.\n",
    "        if len(copy_cargo) == 1:\n",
    "            copy_cargo[0]['delta_length'] = L / 2 - copy_cargo[0]['length'] / 2\n",
    "            copy_cargo[0]['delta_width'] = W / 2 - copy_cargo[0]['width'] / 2\n",
    "    \n",
    "        else:\n",
    "    \n",
    "            prev_border = 0\n",
    "            for idx, item in enumerate(copy_cargo):\n",
    "\n",
    "                copy_cargo[idx]['delta_length'] = random.randint(prev_border, prev_border + free_L_for_one_cargo - 1)\n",
    "\n",
    "                # Всегда начинаем с центра ширины.\n",
    "                copy_cargo[idx]['delta_width'] = W / 2 - copy_cargo[idx]['width'] / 2\n",
    "    \n",
    "                # Обновляем левую границу.\n",
    "                prev_border = prev_border + item['length'] + free_L_for_one_cargo\n",
    "\n",
    "        \n",
    "        return copy_cargo\n",
    "    \n",
    "    \n",
    "    def _get_score_length(self, cargo: list):\n",
    "        \"\"\" Получение метрик при движения груза продольно. \"\"\"\n",
    "\n",
    "        # Продольное смещение грузов в вагоне - в мм.\n",
    "        Lc = 0.5*L - (sum(map(lambda x: x['weight'] * x['delta_length'], cargo)) / weightSum)\n",
    "    \n",
    "        return Lc\n",
    "\n",
    "    def _get_score_width(self, cargo: list):\n",
    "        \"\"\" Получение метрик при движения груза поперечно. \"\"\"\n",
    "\n",
    "        # Поперечное смещение грузов в вагоне - в мм.\n",
    "        Bc = 0.5*W - (sum(map(lambda x: x['weight'] * x['delta_width'], cargo))) / weightSum\n",
    "        return Bc\n",
    "    \n",
    "    def _check_best_cargo(self, cargo: list, length_flag: bool):\n",
    "        \"\"\" Проверка метрик у обновлённого delta у cargo. \"\"\"\n",
    "\n",
    "        # Для продольного смещения.\n",
    "        if length_flag:\n",
    "            score = self._get_score_length(cargo)\n",
    "            if abs(score) < abs(self.score_length):\n",
    "                self.best_cargo = cargo\n",
    "                self.score_length = score\n",
    "                return True\n",
    "\n",
    "        # Для поперечного.\n",
    "        else:\n",
    "            score = self._get_score_width(cargo)\n",
    "            if abs(score) < abs(self.score_width):\n",
    "                self.best_cargo = cargo\n",
    "                self.score_width = score\n",
    "                return True\n",
    "\n",
    "        return False\n",
    "    \n",
    "    def _optimize(self, cargo: list):\n",
    "        \"\"\" Процесс оптимизации delta. \"\"\"\n",
    "\n",
    "        for _ in range(self._n_iter):\n",
    "            # Все перестановка имеющихся грузов.\n",
    "            permutations_cargo = list(itertools.permutations(cargo))\n",
    "    \n",
    "            # Меняю очерёдность расположение каждого груза.\n",
    "            for i in range(0, len(permutations_cargo)):\n",
    "                copy_cargo = self._init_delta(permutations_cargo[i])\n",
    "    \n",
    "                # Эпохи для продольной оптимизации.\n",
    "                flag_work_epoch = True\n",
    "                while flag_work_epoch:\n",
    "                    flag_work_epoch = False\n",
    "    \n",
    "                    # Смещаю каждый груз влево и вправо на step, затем смотрю метрики.\n",
    "                    for k in range(len(copy_cargo)):\n",
    "    \n",
    "                        left_step_cargo = [{k:v for k, v in dct.items()} for dct in copy_cargo]\n",
    "                        left_step_cargo[k]['delta_length'] -= self._step\n",
    "                        \n",
    "                        right_step_cargo = [{k:v for k, v in dct.items()} for dct in copy_cargo]\n",
    "                        right_step_cargo[k]['delta_length'] += self._step\n",
    "    \n",
    "                        # Проверки на не наложение одного груза на другой.\n",
    "                        # Нулевый элемент не выходит за пределы платформы слева.\n",
    "                        if k == 0:\n",
    "                            if left_step_cargo[k]['delta_length'] >= 0:\n",
    "                                # проверка\n",
    "                                if self._check_best_cargo(left_step_cargo, True):\n",
    "                                    copy_cargo = self.best_cargo\n",
    "                                    flag_work_epoch = True\n",
    "                                    \n",
    "                        # Последний элемент не выходит за пределы платформы справа.\n",
    "                        elif k == len(copy_cargo) - 1:\n",
    "                            if right_step_cargo[k]['delta_length'] + right_step_cargo[k]['length'] < L:\n",
    "                                # проверка\n",
    "                                if self._check_best_cargo(right_step_cargo, True):\n",
    "                                    copy_cargo = self.best_cargo\n",
    "                                    flag_work_epoch = True\n",
    "                                \n",
    "                        else:\n",
    "                            # Проверка на не наложение правого груза на левый. \n",
    "                            if left_step_cargo[k]['delta_length'] > left_step_cargo[k-1]['delta_length'] + left_step_cargo[k-1]['length']:\n",
    "                                if self._check_best_cargo(left_step_cargo, True):\n",
    "                                    copy_cargo = self.best_cargo\n",
    "                                    flag_work_epoch = True\n",
    "    \n",
    "                            # Проверка на не наложение левого груза на превый. \n",
    "                            if right_step_cargo[k]['delta_length'] + right_step_cargo[k]['length'] < right_step_cargo[k+1]['delta_length']:\n",
    "                                if self._check_best_cargo(right_step_cargo, True):\n",
    "                                    copy_cargo = self.best_cargo\n",
    "                                    flag_work_epoch = True\n",
    "\n",
    "                # Эпохи для поперечной оптимизации.\n",
    "                flag_work_epoch = True\n",
    "                while flag_work_epoch:\n",
    "                    flag_work_epoch = False\n",
    "    \n",
    "                    # Смещаю каждый груз влево и вправо на step, затем смотрю метрики.\n",
    "                    for k in range(len(copy_cargo)):\n",
    "    \n",
    "                        bottom_step_cargo = [{k:v for k, v in dct.items()} for dct in copy_cargo]\n",
    "                        bottom_step_cargo[k]['delta_width'] -= self._step\n",
    "                        \n",
    "                        top_step_cargo = [{k:v for k, v in dct.items()} for dct in copy_cargo]\n",
    "                        top_step_cargo[k]['delta_width'] += self._step\n",
    "    \n",
    "                        # Проверки на то, чтобы груз не выходил на пределы платформы по бокам.\n",
    "                        if bottom_step_cargo[k]['delta_width'] >= 0:\n",
    "                            # проверка\n",
    "                            if self._check_best_cargo(bottom_step_cargo, False):\n",
    "                                copy_cargo = self.best_cargo\n",
    "                                flag_work_epoch = True\n",
    " \n",
    "                        if top_step_cargo[k]['delta_width'] + top_step_cargo[k]['width'] < W:\n",
    "                            # проверка\n",
    "                            if self._check_best_cargo(top_step_cargo, False):\n",
    "                                copy_cargo = self.best_cargo\n",
    "                                flag_work_epoch = True\n",
    "    \n",
    "\n",
    "\n",
    "\n",
    "tmp = Optimize(cargo, step=1, n_iter=1000)\n",
    "print(tmp.score_length, tmp.score_width)"
   ]
  },
  {
   "cell_type": "code",
   "execution_count": 14,
   "id": "475c01d6-0dd7-4f8d-b308-ac96f06ae79c",
   "metadata": {},
   "outputs": [
    {
     "data": {
      "text/plain": [
       "[{'length': 4100,\n",
       "  'width': 1720,\n",
       "  'height': 1150,\n",
       "  'weight': 1.865,\n",
       "  'delta_length': 145,\n",
       "  'delta_width': 575.0},\n",
       " {'length': 3870,\n",
       "  'width': 2890,\n",
       "  'height': 1020,\n",
       "  'weight': 4.085,\n",
       "  'delta_length': 4531,\n",
       "  'delta_width': -10.0},\n",
       " {'length': 1080,\n",
       "  'width': 1580,\n",
       "  'height': 390,\n",
       "  'weight': 0.395,\n",
       "  'delta_length': 8595,\n",
       "  'delta_width': 645.0},\n",
       " {'length': 3650,\n",
       "  'width': 3320,\n",
       "  'height': 1500,\n",
       "  'weight': 6.67,\n",
       "  'delta_length': 9749,\n",
       "  'delta_width': -225.0}]"
      ]
     },
     "execution_count": 14,
     "metadata": {},
     "output_type": "execute_result"
    }
   ],
   "source": [
    "tmp.best_cargo"
   ]
  },
  {
   "cell_type": "code",
   "execution_count": null,
   "id": "957de03e-4c91-4b0d-9531-1da159d476e3",
   "metadata": {},
   "outputs": [],
   "source": []
  }
 ],
 "metadata": {
  "kernelspec": {
   "display_name": "Python 3 (ipykernel)",
   "language": "python",
   "name": "python3"
  },
  "language_info": {
   "codemirror_mode": {
    "name": "ipython",
    "version": 3
   },
   "file_extension": ".py",
   "mimetype": "text/x-python",
   "name": "python",
   "nbconvert_exporter": "python",
   "pygments_lexer": "ipython3",
   "version": "3.11.5"
  }
 },
 "nbformat": 4,
 "nbformat_minor": 5
}
