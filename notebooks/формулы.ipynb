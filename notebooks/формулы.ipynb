{
 "cells": [
  {
   "cell_type": "markdown",
   "id": "b0999db2-2ccf-479b-a330-167ad0b55048",
   "metadata": {},
   "source": [
    "# Формула расчёта смещения центров масс для ящика"
   ]
  },
  {
   "cell_type": "markdown",
   "id": "1d1775b2-c8a2-4dcb-aee9-2fd6ab664c80",
   "metadata": {},
   "source": [
    "### Исходные данные"
   ]
  },
  {
   "cell_type": "code",
   "execution_count": null,
   "id": "92011ef2-d140-4042-bdc8-b35bf4d8397c",
   "metadata": {},
   "outputs": [],
   "source": []
  },
  {
   "cell_type": "markdown",
   "id": "58e55acc-1221-4371-b2b6-b834bf3b9c3b",
   "metadata": {},
   "source": [
    "### Формулы"
   ]
  },
  {
   "cell_type": "code",
   "execution_count": null,
   "id": "64ff766f-5ee1-425f-9259-7b198ddebd97",
   "metadata": {},
   "outputs": [],
   "source": []
  },
  {
   "cell_type": "markdown",
   "id": "f455f563-4705-41aa-b1dc-45a27c8488e6",
   "metadata": {},
   "source": [
    "### Создание word"
   ]
  },
  {
   "cell_type": "code",
   "execution_count": 2,
   "id": "da9ced35-4308-4a3d-bfb9-647ed72ec104",
   "metadata": {},
   "outputs": [
    {
     "name": "stdout",
     "output_type": "stream",
     "text": [
      "{'test'}\n"
     ]
    }
   ],
   "source": [
    "from mailmerge import MailMerge\n",
    "\n",
    "filename = 'test.docx'\n",
    "\n",
    "document = MailMerge(filename)\n",
    "print(document.get_merge_fields())"
   ]
  },
  {
   "cell_type": "code",
   "execution_count": null,
   "id": "d9f882de-23ff-45b7-90b7-5a3964fcbf7b",
   "metadata": {},
   "outputs": [],
   "source": []
  }
 ],
 "metadata": {
  "kernelspec": {
   "display_name": "Python 3 (ipykernel)",
   "language": "python",
   "name": "python3"
  },
  "language_info": {
   "codemirror_mode": {
    "name": "ipython",
    "version": 3
   },
   "file_extension": ".py",
   "mimetype": "text/x-python",
   "name": "python",
   "nbconvert_exporter": "python",
   "pygments_lexer": "ipython3",
   "version": "3.11.5"
  }
 },
 "nbformat": 4,
 "nbformat_minor": 5
}
