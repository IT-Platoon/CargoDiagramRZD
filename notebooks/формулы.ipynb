{
 "cells": [
  {
   "cell_type": "markdown",
   "id": "b0999db2-2ccf-479b-a330-167ad0b55048",
   "metadata": {},
   "source": [
    "# Формула расчёта смещения центров масс для ящика"
   ]
  },
  {
   "cell_type": "markdown",
   "id": "1d1775b2-c8a2-4dcb-aee9-2fd6ab664c80",
   "metadata": {},
   "source": [
    "### Исходные данные"
   ]
  },
  {
   "cell_type": "code",
   "execution_count": 27,
   "id": "92011ef2-d140-4042-bdc8-b35bf4d8397c",
   "metadata": {},
   "outputs": [],
   "source": [
    "# Характеристика 4-х осной ж/д платформы\n",
    "L = 13400 # Длина пола\n",
    "2870 # Ширина пола\n",
    "Qv = 21 # Масса тары\n",
    "wugr = 1310 # Высота пола от УГР\n",
    "height_ct_vagon = 800 # Высота центра тяжести(ЦТ) от УГР\n",
    "9720 # База платформы\n",
    "\n",
    "delta = [150, 150, 150, 150] # расстояние между грузами (нет в записке)\n",
    "\n",
    "# Вес - в тоннах.\n",
    "# Длина, ширина, высота - в мм.\n",
    "cargo = [ # грузы\n",
    "    {'length': 1080, 'width': 1580, 'height': 390, 'weight': 395 / 1000},  \n",
    "    {'length': 3650, 'width': 3320, 'height': 1500, 'weight': 6670 / 1000},\n",
    "    {'length': 4100, 'width': 1720, 'height': 1150, 'weight': 1865 / 1000},\n",
    "    {'length': 3870, 'width': 2890, 'height': 1020, 'weight': 4085 / 1000},\n",
    "]\n",
    "weightSum = sum(map(lambda x: x['weight'], cargo))"
   ]
  },
  {
   "cell_type": "markdown",
   "id": "58e55acc-1221-4371-b2b6-b834bf3b9c3b",
   "metadata": {},
   "source": [
    "### Формулы"
   ]
  },
  {
   "cell_type": "code",
   "execution_count": 28,
   "id": "64dd9881-955a-4067-8061-75f348a14a25",
   "metadata": {},
   "outputs": [
    {
     "name": "stdout",
     "output_type": "stream",
     "text": [
      "433.3941605839418 165.8275760693814 1942.750672301191\n"
     ]
    }
   ],
   "source": [
    "for index, item in enumerate(cargo):\n",
    "    if index:\n",
    "        prev = cargo[index - 1]\n",
    "        item['ct'] = (item['length'] + prev['length']) / 2 + prev['ct'] + delta[index]\n",
    "    else:\n",
    "        item['ct'] = item['length'] / 2 + delta[index]\n",
    "\n",
    "\n",
    "# Продольное смещение грузов в вагоне - в мм.\n",
    "Lc = 0.5*L - (sum(map(lambda x: x['weight'] * x['ct'], cargo)) / weightSum)\n",
    "\n",
    "# Продольное смещение грузов с вагоном - в мм.\n",
    "Lcv = 0.5*L - (sum(map(lambda x: x['weight'] * x['ct'], cargo)) + Qv * L/2) / (weightSum + Qv)\n",
    "\n",
    "# Общая высота ЦТ - в мм.\n",
    "H = sum(map(lambda x: x['weight'] * (x['height']/2 + wugr), cargo)) / weightSum\n",
    "\n",
    "print(Lc, Lcv, H)"
   ]
  },
  {
   "cell_type": "code",
   "execution_count": 15,
   "id": "64ff766f-5ee1-425f-9259-7b198ddebd97",
   "metadata": {},
   "outputs": [
    {
     "name": "stdout",
     "output_type": "stream",
     "text": [
      "694.4967345370733 265.7320299867706 1942.750672301191\n"
     ]
    }
   ],
   "source": [
    "for index, item in enumerate(cargo):\n",
    "    if index:\n",
    "        prev = cargo[index - 1]\n",
    "        item['ct'] = (item['length'] + prev['length']) / 2 + prev['ct'] + delta[index]\n",
    "    else:\n",
    "        item['ct'] = item['length'] / 2 + delta[index]\n",
    "\n",
    "\n",
    "# Продольное смещение грузов в вагоне - в мм.\n",
    "Lc = 0.5*L - (sum(map(lambda x: x['weight'] * x['ct'], cargo)) / weightSum)\n",
    "\n",
    "# Продольное смещение грузов с вагоном - в мм.\n",
    "Lcv = 0.5*L - (sum(map(lambda x: x['weight'] * x['ct'], cargo)) + Qv * L/2) / (weightSum + Qv)\n",
    "\n",
    "# Общая высота ЦТ - в мм.\n",
    "H = sum(map(lambda x: x['weight'] * (x['height']/2 + wugr), cargo)) / weightSum\n",
    "\n",
    "print(Lc, Lcv, H)"
   ]
  },
  {
   "cell_type": "markdown",
   "id": "b3e926ca-b92a-4349-aeaa-ff7266b96067",
   "metadata": {},
   "source": [
    "### Доп формулы"
   ]
  },
  {
   "cell_type": "code",
   "execution_count": 8,
   "id": "5257a00d-6f7d-49e6-9a25-969d462ba71e",
   "metadata": {},
   "outputs": [
    {
     "data": {
      "text/plain": [
       "1237.2453329413495"
      ]
     },
     "execution_count": 8,
     "metadata": {},
     "output_type": "execute_result"
    }
   ],
   "source": [
    "# Общая высота ЦТ\n",
    "height_center_gravity_in_car = (sum(map(lambda x: x['weight'] * (x['height']/2 + wugr), cargo)) + Qv * height_ct_vagon)/ (weightSum + Qv)\n",
    "height_center_gravity_in_car"
   ]
  },
  {
   "cell_type": "code",
   "execution_count": 10,
   "id": "a8a508cb-c6b0-43a3-acb9-8af9798105c3",
   "metadata": {},
   "outputs": [
    {
     "data": {
      "text/plain": [
       "21.5586"
      ]
     },
     "execution_count": 10,
     "metadata": {},
     "output_type": "execute_result"
    }
   ],
   "source": [
    "# Расчет наветренной поверхности.\n",
    "# Значение 7 - константа\n",
    "sum([item['length'] / 1000 * item['height'] / 1000 for item in cargo]) + 7"
   ]
  },
  {
   "cell_type": "markdown",
   "id": "8211bbfe-9056-4358-9685-261a4f98ef0f",
   "metadata": {},
   "source": [
    "### Генетический алгоритм"
   ]
  },
  {
   "cell_type": "code",
   "execution_count": 29,
   "id": "206a54d0-dfd5-45f8-bf3a-5f12883dea77",
   "metadata": {},
   "outputs": [
    {
     "ename": "TypeError",
     "evalue": "object of type 'int' has no len()",
     "output_type": "error",
     "traceback": [
      "\u001b[1;31m---------------------------------------------------------------------------\u001b[0m",
      "\u001b[1;31mTypeError\u001b[0m                                 Traceback (most recent call last)",
      "Cell \u001b[1;32mIn[29], line 97\u001b[0m\n\u001b[0;32m     87\u001b[0m crossing \u001b[38;5;241m=\u001b[39m Crossing(\u001b[38;5;241m0.9\u001b[39m, \u001b[38;5;124m\"\u001b[39m\u001b[38;5;124mu\u001b[39m\u001b[38;5;124m\"\u001b[39m)\n\u001b[0;32m     89\u001b[0m population \u001b[38;5;241m=\u001b[39m [\n\u001b[0;32m     90\u001b[0m     [\u001b[38;5;241m0\u001b[39m, \u001b[38;5;241m0\u001b[39m, \u001b[38;5;241m1\u001b[39m, \u001b[38;5;241m0\u001b[39m],\n\u001b[0;32m     91\u001b[0m     [\u001b[38;5;241m1\u001b[39m, \u001b[38;5;241m1\u001b[39m, \u001b[38;5;241m1\u001b[39m, \u001b[38;5;241m0\u001b[39m],\n\u001b[1;32m   (...)\u001b[0m\n\u001b[0;32m     95\u001b[0m     [\u001b[38;5;241m1\u001b[39m, \u001b[38;5;241m0\u001b[39m, \u001b[38;5;241m0\u001b[39m, \u001b[38;5;241m1\u001b[39m],\n\u001b[0;32m     96\u001b[0m ]\n\u001b[1;32m---> 97\u001b[0m \u001b[38;5;28mprint\u001b[39m(\u001b[43mcrossing\u001b[49m\u001b[38;5;241;43m.\u001b[39;49m\u001b[43mcrossing\u001b[49m\u001b[43m(\u001b[49m\u001b[43mpopulation\u001b[49m\u001b[43m)\u001b[49m)\n\u001b[0;32m     99\u001b[0m \u001b[38;5;66;03m# population = [\u001b[39;00m\n\u001b[0;32m    100\u001b[0m \u001b[38;5;66;03m#     [[0], [1, 1, 1, 0, 1, 1], [1, 1, 1, 0, 1, 1]],\u001b[39;00m\n\u001b[0;32m    101\u001b[0m \u001b[38;5;66;03m#     [[1, 1, 1, 0, 0, 1], [0, 1, 1, 0, 0, 0], [1, 1, 1, 0, 1, 1]],\u001b[39;00m\n\u001b[1;32m   (...)\u001b[0m\n\u001b[0;32m    108\u001b[0m \u001b[38;5;66;03m# for i in crossing.crossing(population):\u001b[39;00m\n\u001b[0;32m    109\u001b[0m \u001b[38;5;66;03m#     print(i)\u001b[39;00m\n",
      "Cell \u001b[1;32mIn[29], line 38\u001b[0m, in \u001b[0;36mCrossing.crossing\u001b[1;34m(self, population)\u001b[0m\n\u001b[0;32m     35\u001b[0m         two_childs \u001b[38;5;241m=\u001b[39m \u001b[38;5;28mself\u001b[39m\u001b[38;5;241m.\u001b[39m_singlePointCrossing(genotip1, genotip2)\n\u001b[0;32m     37\u001b[0m     \u001b[38;5;28;01melse\u001b[39;00m:\n\u001b[1;32m---> 38\u001b[0m         two_childs \u001b[38;5;241m=\u001b[39m  \u001b[38;5;28;43mself\u001b[39;49m\u001b[38;5;241;43m.\u001b[39;49m\u001b[43m_uniformCrossing\u001b[49m\u001b[43m(\u001b[49m\u001b[43mgenotip1\u001b[49m\u001b[43m,\u001b[49m\u001b[43m \u001b[49m\u001b[43mgenotip2\u001b[49m\u001b[43m)\u001b[49m\n\u001b[0;32m     40\u001b[0m \u001b[38;5;28;01melse\u001b[39;00m:\n\u001b[0;32m     41\u001b[0m     two_childs \u001b[38;5;241m=\u001b[39m [genotip1, genotip2]\n",
      "Cell \u001b[1;32mIn[29], line 74\u001b[0m, in \u001b[0;36mCrossing._uniformCrossing\u001b[1;34m(self, genotip1, genotip2)\u001b[0m\n\u001b[0;32m     72\u001b[0m two_childs \u001b[38;5;241m=\u001b[39m [[] \u001b[38;5;28;01mfor\u001b[39;00m _ \u001b[38;5;129;01min\u001b[39;00m \u001b[38;5;28mrange\u001b[39m(\u001b[38;5;241m2\u001b[39m)]\n\u001b[0;32m     73\u001b[0m \u001b[38;5;28;01mfor\u001b[39;00m i \u001b[38;5;129;01min\u001b[39;00m \u001b[38;5;28mrange\u001b[39m(count_variables):\n\u001b[1;32m---> 74\u001b[0m     lenght \u001b[38;5;241m=\u001b[39m \u001b[38;5;28;43mlen\u001b[39;49m\u001b[43m(\u001b[49m\u001b[43mgenotip1\u001b[49m\u001b[43m[\u001b[49m\u001b[43mi\u001b[49m\u001b[43m]\u001b[49m\u001b[43m)\u001b[49m\n\u001b[0;32m     76\u001b[0m     one_param_child1 \u001b[38;5;241m=\u001b[39m [random\u001b[38;5;241m.\u001b[39mchoice([genotip1[i][k], genotip2[i][k]]) \u001b[38;5;28;01mfor\u001b[39;00m k \u001b[38;5;129;01min\u001b[39;00m \u001b[38;5;28mrange\u001b[39m(lenght)]\n\u001b[0;32m     77\u001b[0m     one_param_child2 \u001b[38;5;241m=\u001b[39m [random\u001b[38;5;241m.\u001b[39mchoice([genotip1[i][k], genotip2[i][k]]) \u001b[38;5;28;01mfor\u001b[39;00m k \u001b[38;5;129;01min\u001b[39;00m \u001b[38;5;28mrange\u001b[39m(lenght)]\n",
      "\u001b[1;31mTypeError\u001b[0m: object of type 'int' has no len()"
     ]
    }
   ],
   "source": [
    "\"\"\" Модуль с реализацией генетического оператора скрещивания. \"\"\"\n",
    "\n",
    "\n",
    "import random\n",
    "\n",
    "\n",
    "class Crossing:\n",
    "    \"\"\" Cкрещивание. \"\"\"\n",
    "\n",
    "    def __init__(self, p: float, strategy: str):\n",
    "        # Вероятность скрещивания.\n",
    "        self.p = p\n",
    "        self.strategy = strategy  # s | u\n",
    "\n",
    "    def crossing(self, population: list[list]) -> list[list]:\n",
    "        \"\"\" Скрещивание осуществляется с определённой вероятностью. \"\"\"\n",
    "\n",
    "        count_population = len(population)\n",
    "\n",
    "        crossing_population = []\n",
    "        for _ in range(count_population // 2):\n",
    "            tmp_count_population = len(population) - 1\n",
    "\n",
    "            # Случайный выбор 2 генотипов.\n",
    "            idx_rand1 = random.randint(0, tmp_count_population)\n",
    "            genotip1 = population.pop(idx_rand1)\n",
    "\n",
    "            idx_rand2 = random.randint(0, tmp_count_population-1)\n",
    "            genotip2 = population.pop(idx_rand2)\n",
    "\n",
    "            # Скрещивание происходит в вероятноью p.\n",
    "            if random.random() < self.p:\n",
    "\n",
    "                if self.strategy == \"s\":\n",
    "                    two_childs = self._singlePointCrossing(genotip1, genotip2)\n",
    "\n",
    "                else:\n",
    "                    two_childs =  self._uniformCrossing(genotip1, genotip2)\n",
    "\n",
    "            else:\n",
    "                two_childs = [genotip1, genotip2]\n",
    "\n",
    "            # Добавление потомков в новое поколение.\n",
    "            for child in two_childs:\n",
    "                crossing_population.append(child)\n",
    "\n",
    "        return crossing_population\n",
    "\n",
    "    def _singlePointCrossing(self, genotip1: list, genotip2: list) -> list[list, list]:\n",
    "        \"\"\" Одноточечное скрещивание. \"\"\"\n",
    "\n",
    "        count_variables = len(genotip1)\n",
    "\n",
    "        two_childs = [[] for _ in range(2)]\n",
    "        for i in range(count_variables):\n",
    "            lenght = len(genotip1[i])\n",
    "            point = random.randint(1, lenght-1)\n",
    "\n",
    "            one_param_child1 = genotip1[i][:point] + genotip2[i][point:]\n",
    "            one_param_child2 = genotip2[i][:point] + genotip1[i][point:]\n",
    "\n",
    "            two_childs[0].append(one_param_child1)\n",
    "            two_childs[1].append(one_param_child2)\n",
    "\n",
    "        return two_childs\n",
    "\n",
    "    def _uniformCrossing(self, genotip1: list, genotip2: list) -> list[list, list]:\n",
    "        \"\"\" Равномерное скрещивание. \"\"\"\n",
    "\n",
    "        count_variables = len(genotip1)\n",
    "\n",
    "        two_childs = [[] for _ in range(2)]\n",
    "        for i in range(count_variables):\n",
    "            lenght = len(genotip1[i])\n",
    "\n",
    "            one_param_child1 = [random.choice([genotip1[i][k], genotip2[i][k]]) for k in range(lenght)]\n",
    "            one_param_child2 = [random.choice([genotip1[i][k], genotip2[i][k]]) for k in range(lenght)]\n",
    "\n",
    "            two_childs[0].append(one_param_child1)\n",
    "            two_childs[1].append(one_param_child2)\n",
    "\n",
    "        return two_childs\n",
    "\n",
    "\n",
    "if __name__ == \"__main__\":\n",
    "\n",
    "    crossing = Crossing(0.9, \"u\")\n",
    "\n",
    "    population = [\n",
    "        [[150], [150], [150], [150]],\n",
    "        [[1, 1, 1, 0, 0, 1], [0, 1, 1, 0, 0, 0], [1, 1, 1, 0, 1, 1]],\n",
    "        [[0, 1, 1, 0, 1, 1], [0, 0, 1, 1, 0, 0], [1, 1, 1, 0, 1, 1]],\n",
    "        [[1, 0, 0, 1, 1, 1], [0, 0, 0, 0, 1, 1], [1, 1, 1, 0, 1, 1]],\n",
    "        [[1, 1, 1, 1, 0, 0], [1, 0, 0, 0, 0, 1], [1, 1, 1, 0, 1, 1]],\n",
    "        [[1, 0, 0, 1, 0, 0], [0, 1, 1, 0, 1, 0], [1, 1, 1, 0, 1, 1]],\n",
    "    ]\n",
    "    # print(crossing.crossing(population))\n",
    "    for i in crossing.crossing(population):\n",
    "        print(i)"
   ]
  },
  {
   "cell_type": "code",
   "execution_count": null,
   "id": "d3505744-c659-4673-b8f1-97c02c7d32ea",
   "metadata": {},
   "outputs": [],
   "source": [
    "def run(delta):\n",
    "    \n",
    "    # Вес - в тоннах.\n",
    "    # Длина, ширина, высота - в мм.\n",
    "    cargo = [ # грузы\n",
    "        {'length': 1080, 'width': 1580, 'height': 390, 'weight': 395 / 1000},  \n",
    "        {'length': 3650, 'width': 3320, 'height': 1500, 'weight': 6670 / 1000},\n",
    "        {'length': 4100, 'width': 1720, 'height': 1150, 'weight': 1865 / 1000},\n",
    "        {'length': 3870, 'width': 2890, 'height': 1020, 'weight': 4085 / 1000},\n",
    "    ]\n",
    "    weightSum = sum(map(lambda x: x['weight'], cargo))\n",
    "    \n",
    "    \n",
    "    for index, item in enumerate(cargo):\n",
    "        if index:\n",
    "            prev = cargo[index - 1]\n",
    "            item['ct'] = (item['length'] + prev['length']) / 2 + prev['ct'] + delta[index]\n",
    "        else:\n",
    "            item['ct'] = item['length'] / 2 + delta[index]\n",
    "    \n",
    "    \n",
    "    # Продольное смещение грузов в вагоне - в мм.\n",
    "    Lc = 0.5*L - (sum(map(lambda x: x['weight'] * x['ct'], cargo)) / weightSum)\n",
    "    \n",
    "    # Продольное смещение грузов с вагоном - в мм.\n",
    "    Lcv = 0.5*L - (sum(map(lambda x: x['weight'] * x['ct'], cargo)) + Qv * L/2) / (weightSum + Qv)"
   ]
  }
 ],
 "metadata": {
  "kernelspec": {
   "display_name": "Python 3 (ipykernel)",
   "language": "python",
   "name": "python3"
  },
  "language_info": {
   "codemirror_mode": {
    "name": "ipython",
    "version": 3
   },
   "file_extension": ".py",
   "mimetype": "text/x-python",
   "name": "python",
   "nbconvert_exporter": "python",
   "pygments_lexer": "ipython3",
   "version": "3.11.5"
  }
 },
 "nbformat": 4,
 "nbformat_minor": 5
}
