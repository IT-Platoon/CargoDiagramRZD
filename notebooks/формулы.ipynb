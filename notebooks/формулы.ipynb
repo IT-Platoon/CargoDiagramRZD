{
 "cells": [
  {
   "cell_type": "markdown",
   "id": "b0999db2-2ccf-479b-a330-167ad0b55048",
   "metadata": {},
   "source": [
    "# Формула расчёта смещения центров масс для ящика"
   ]
  },
  {
   "cell_type": "markdown",
   "id": "1d1775b2-c8a2-4dcb-aee9-2fd6ab664c80",
   "metadata": {},
   "source": [
    "### Исходные данные"
   ]
  },
  {
   "cell_type": "code",
   "execution_count": 2,
   "id": "92011ef2-d140-4042-bdc8-b35bf4d8397c",
   "metadata": {},
   "outputs": [],
   "source": [
    "# Характеристика 4-х осной ж/д платформы\n",
    "L = 13400 # Длина пола\n",
    "2870 # Ширина пола\n",
    "Qv = 21 # Масса тары\n",
    "wugr = 1310 # Высота пола от УГР\n",
    "800 # Высота центра тяжести(ЦТ) от УГР\n",
    "9720 # База платформы\n",
    "\n",
    "delta = [150, 0, 0, 0] # расстояние между грузами (нет в записке)\n",
    "\n",
    "# Вес - в тоннах.\n",
    "# Длина, ширина, высота - в мм.\n",
    "cargo = [ # грузы\n",
    "    {'length': 1080, 'width': 1580, 'height': 390, 'weight': 395 / 1000},  \n",
    "    {'length': 3650, 'width': 3320, 'height': 1500, 'weight': 6670 / 1000},\n",
    "    {'length': 4100, 'width': 1720, 'height': 1150, 'weight': 1865 / 1000},\n",
    "    {'length': 3870, 'width': 2890, 'height': 1020, 'weight': 4085 / 1000},\n",
    "]\n",
    "weightSum = sum(map(lambda x: x['weight'], cargo))"
   ]
  },
  {
   "cell_type": "markdown",
   "id": "58e55acc-1221-4371-b2b6-b834bf3b9c3b",
   "metadata": {},
   "source": [
    "### Формулы"
   ]
  },
  {
   "cell_type": "code",
   "execution_count": 1,
   "id": "64ff766f-5ee1-425f-9259-7b198ddebd97",
   "metadata": {},
   "outputs": [
    {
     "name": "stdout",
     "output_type": "stream",
     "text": [
      "694.4967345370733 265.7320299867706 1942.750672301191\n"
     ]
    }
   ],
   "source": [
    "for index, item in enumerate(cargo):\n",
    "    if index:\n",
    "        prev = cargo[index - 1]\n",
    "        item['ct'] = (item['length'] + prev['length']) / 2 + prev['ct'] + delta[index]\n",
    "    else:\n",
    "        item['ct'] = item['length'] / 2 + delta[index]\n",
    "\n",
    "\n",
    "# Продольное смещение грузов в вагоне - в мм.\n",
    "Lc = 0.5*L - (sum(map(lambda x: x['weight'] * x['ct'], cargo)) / weightSum)\n",
    "\n",
    "# Продольное смещение грузов с вагоном - в мм.\n",
    "Lcv = 0.5*L - (sum(map(lambda x: x['weight'] * x['ct'], cargo)) + Qv * L/2) / (weightSum + Qv)\n",
    "\n",
    "# Общая высота ЦТ - в мм.\n",
    "H = sum(map(lambda x: x['weight'] * (x['height']/2 + wugr), cargo)) / weightSum\n",
    "\n",
    "print(Lc, Lcv, H)"
   ]
  },
  {
   "cell_type": "code",
   "execution_count": null,
   "id": "5257a00d-6f7d-49e6-9a25-969d462ba71e",
   "metadata": {},
   "outputs": [],
   "source": []
  }
 ],
 "metadata": {
  "kernelspec": {
   "display_name": "Python 3 (ipykernel)",
   "language": "python",
   "name": "python3"
  },
  "language_info": {
   "codemirror_mode": {
    "name": "ipython",
    "version": 3
   },
   "file_extension": ".py",
   "mimetype": "text/x-python",
   "name": "python",
   "nbconvert_exporter": "python",
   "pygments_lexer": "ipython3",
   "version": "3.11.5"
  }
 },
 "nbformat": 4,
 "nbformat_minor": 5
}
